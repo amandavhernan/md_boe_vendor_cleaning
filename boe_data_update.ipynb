{
 "cells": [
  {
   "attachments": {},
   "cell_type": "markdown",
   "metadata": {},
   "source": [
    "Amanda Hernández"
   ]
  },
  {
   "attachments": {},
   "cell_type": "markdown",
   "metadata": {},
   "source": [
    "Import pandas"
   ]
  },
  {
   "cell_type": "code",
   "execution_count": 1,
   "metadata": {},
   "outputs": [],
   "source": [
    "import pandas as pd"
   ]
  },
  {
   "attachments": {},
   "cell_type": "markdown",
   "metadata": {},
   "source": [
    "Load dataset, remove unnecessary columns"
   ]
  },
  {
   "cell_type": "code",
   "execution_count": null,
   "metadata": {},
   "outputs": [],
   "source": [
    "aacps = pd.read_csv('data/clean_aacps_boe_spending.csv')\n",
    "aacps.head()"
   ]
  },
  {
   "cell_type": "code",
   "execution_count": null,
   "metadata": {},
   "outputs": [],
   "source": [
    "aacps = aacps.drop(['Purpose of Payment (Baltimore County only)', 'MBE'], axis=1)\n",
    "aacps.head()"
   ]
  },
  {
   "cell_type": "code",
   "execution_count": 16,
   "metadata": {},
   "outputs": [],
   "source": [
    "aacps.to_csv('data/clean_aacps_boe_spending.csv', index=False, header=True)"
   ]
  },
  {
   "attachments": {},
   "cell_type": "markdown",
   "metadata": {},
   "source": [
    "Missing data"
   ]
  },
  {
   "cell_type": "code",
   "execution_count": 20,
   "metadata": {},
   "outputs": [
    {
     "name": "stdout",
     "output_type": "stream",
     "text": [
      "Total number of missing values:  2219\n",
      "Total number of missing years:  0\n",
      "Total number of missing clean payee names:  0\n",
      "Total number of missing payee names:  0\n",
      "Total number of missing payee zips:  1111\n",
      "Total number of missing payment amounts:  1108\n"
     ]
    }
   ],
   "source": [
    "missing_values_count = aacps.isnull().sum()\n",
    "\n",
    "# total num\n",
    "print(\"Total number of missing values: \", missing_values_count.sum())\n",
    "\n",
    "# checking all columns except agency name, confidence, and cluster id\n",
    "\n",
    "# year\n",
    "print(\"Total number of missing years: \", missing_values_count['Fiscal Year'])\n",
    "# clean payee name\n",
    "print(\"Total number of missing clean payee names: \", missing_values_count['Clean Payee Name'])\n",
    "# payee name\n",
    "print(\"Total number of missing payee names: \", missing_values_count['Payee Name'])\n",
    "# payee zip\n",
    "print(\"Total number of missing payee zips: \", missing_values_count['Payee Zip'])\n",
    "# payment amount\n",
    "print(\"Total number of missing payment amounts: \", missing_values_count['Amount'])"
   ]
  },
  {
   "attachments": {},
   "cell_type": "markdown",
   "metadata": {},
   "source": [
    "Number of records per year"
   ]
  },
  {
   "cell_type": "code",
   "execution_count": 21,
   "metadata": {},
   "outputs": [
    {
     "name": "stdout",
     "output_type": "stream",
     "text": [
      "Fiscal Year\n",
      "2017    555\n",
      "2018    553\n",
      "2019    579\n",
      "2020    553\n",
      "2021    582\n",
      "2022    608\n",
      "Name: Fiscal Year, dtype: int64\n"
     ]
    }
   ],
   "source": [
    "year_vendor_num =  aacps.groupby('Fiscal Year')['Fiscal Year'].count()\n",
    "print(year_vendor_num)"
   ]
  },
  {
   "attachments": {},
   "cell_type": "markdown",
   "metadata": {},
   "source": [
    "Top 10 recipients per year"
   ]
  },
  {
   "cell_type": "code",
   "execution_count": null,
   "metadata": {},
   "outputs": [],
   "source": [
    "aacps.sort_values(['Fiscal Year', 'Amount'], ascending=False).groupby('Fiscal Year').head(10)"
   ]
  }
 ],
 "metadata": {
  "kernelspec": {
   "display_name": "Python 3",
   "language": "python",
   "name": "python3"
  },
  "language_info": {
   "codemirror_mode": {
    "name": "ipython",
    "version": 3
   },
   "file_extension": ".py",
   "mimetype": "text/x-python",
   "name": "python",
   "nbconvert_exporter": "python",
   "pygments_lexer": "ipython3",
   "version": "3.10.4"
  },
  "orig_nbformat": 4,
  "vscode": {
   "interpreter": {
    "hash": "3ad933181bd8a04b432d3370b9dc3b0662ad032c4dfaa4e4f1596c548f763858"
   }
  }
 },
 "nbformat": 4,
 "nbformat_minor": 2
}
