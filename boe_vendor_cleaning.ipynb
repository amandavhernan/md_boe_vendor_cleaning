{
 "cells": [
  {
   "attachments": {},
   "cell_type": "markdown",
   "metadata": {},
   "source": [
    "Amanda Hernández\n",
    "\n",
    "1. The first step I took to clean the vendor names was duplicating the original \"Payee Name\" column to start working in. Then, I removed all of the punctuation by using str.replace and the regular expression, [^\\w\\s]+, to replace all punctuation characters with an empty string. Then, I trained the dedupe library to check for vendor name duplicates. The library standardized/clustered the vendors and created two new columns in the dataframe; \"cluster id\" and \"confidence.\" After checking the dataframe, I converted all of the cleaned vendor names to uppercase. Then, I exported the clean dataset into the data folder as a CSV.\n",
    "\n",
    "2. The hardest part of standardizing this data was learning how to use the dedupe library. It was tricky at first because I didn't fully understand how to train it, but after consulting a few tutorials I got the hang of it. It's actually a lot easier to use compared to some of the other libraries I found online. When I started training the library, I found myself also Googling the vendor names to determine whether they might be the same or not. This wasn't a difficult step, but it actually helped me learn more about some of the vendors and the services they provide.\n",
    "\n",
    "https://pypi.org/project/pandas-dedupe/\n",
    "\n",
    "3. In total, there are 1,073 unique vendors. One of the first things I noticed is that some years are missing payment amount data. I would like to know if there's a valid reason for that, but I suspect that there probably isn't. I also noticed that the county paid several different bus services, which is likely a result of the bus driver shortage. Lastly, I thought it was interesting how the county's payments to the College Board increased by ~20% from 2020 to 2022. I did some digging and found that the county pledged to cover some of the costs of AP exams and other tests to provide more opportunities to students.\n",
    "\n",
    "https://southernmarylandchronicle.com/2022/12/13/__trashed-4/\n",
    "\n",
    "Payments to the College Board:\n",
    "\n",
    "| Year        | Amount       |\n",
    "| ----------- | -----------  |\n",
    "| 2020        | $936,554     |\n",
    "| 2021        | $1,127,390.90|\n",
    "| 2022        | $1,208,841.80|"
   ]
  },
  {
   "attachments": {},
   "cell_type": "markdown",
   "metadata": {},
   "source": [
    "Import libraries"
   ]
  },
  {
   "cell_type": "code",
   "execution_count": null,
   "metadata": {},
   "outputs": [],
   "source": [
    "import pandas as pd\n",
    "import pandas_dedupe"
   ]
  },
  {
   "attachments": {},
   "cell_type": "markdown",
   "metadata": {},
   "source": [
    "Load original dataset"
   ]
  },
  {
   "cell_type": "code",
   "execution_count": null,
   "metadata": {},
   "outputs": [],
   "source": [
    "df = pd.read_csv('data/original_boe_spending.csv')\n",
    "df.head()"
   ]
  },
  {
   "attachments": {},
   "cell_type": "markdown",
   "metadata": {},
   "source": [
    "Filter by assigned county and export new dataframe into data folder"
   ]
  },
  {
   "cell_type": "code",
   "execution_count": null,
   "metadata": {},
   "outputs": [],
   "source": [
    "aacps_boe_spending = df.loc[(df['Agency Name'] == 'Anne Arundel Co. Public Schools')]\n",
    "aacps_boe_spending.head()"
   ]
  },
  {
   "cell_type": "code",
   "execution_count": null,
   "metadata": {},
   "outputs": [],
   "source": [
    "aacps_boe_spending.to_csv('data/aacps_boe_spending.csv', index=False, header=True)"
   ]
  },
  {
   "attachments": {},
   "cell_type": "markdown",
   "metadata": {},
   "source": [
    "Load AACPS dataset"
   ]
  },
  {
   "cell_type": "code",
   "execution_count": null,
   "metadata": {},
   "outputs": [],
   "source": [
    "clean_df = pd.read_csv('data/aacps_boe_spending.csv')\n",
    "clean_df.head()"
   ]
  },
  {
   "attachments": {},
   "cell_type": "markdown",
   "metadata": {},
   "source": [
    "Duplicate payee name column"
   ]
  },
  {
   "cell_type": "code",
   "execution_count": null,
   "metadata": {},
   "outputs": [],
   "source": [
    "clean_df['Clean Payee Name'] = clean_df.loc[:, 'Payee Name']\n",
    "clean_df.head()"
   ]
  },
  {
   "attachments": {},
   "cell_type": "markdown",
   "metadata": {},
   "source": [
    "Remove all punctuation from vendor names"
   ]
  },
  {
   "cell_type": "code",
   "execution_count": null,
   "metadata": {},
   "outputs": [],
   "source": [
    "clean_df['Clean Payee Name'] = clean_df['Clean Payee Name'].str.replace(r'[^\\w\\s]+', '')"
   ]
  },
  {
   "attachments": {},
   "cell_type": "markdown",
   "metadata": {},
   "source": [
    "Deduplication "
   ]
  },
  {
   "cell_type": "code",
   "execution_count": null,
   "metadata": {},
   "outputs": [],
   "source": [
    "clean_df = pandas_dedupe.dedupe_dataframe(clean_df, ['Clean Payee Name'])"
   ]
  },
  {
   "attachments": {},
   "cell_type": "markdown",
   "metadata": {},
   "source": [
    "Check dataframe"
   ]
  },
  {
   "cell_type": "code",
   "execution_count": null,
   "metadata": {},
   "outputs": [],
   "source": [
    "clean_df"
   ]
  },
  {
   "attachments": {},
   "cell_type": "markdown",
   "metadata": {},
   "source": [
    "Convert all vendor names to uppercase"
   ]
  },
  {
   "cell_type": "code",
   "execution_count": null,
   "metadata": {},
   "outputs": [],
   "source": [
    "clean_df['Clean Payee Name'] = clean_df['Clean Payee Name'].str.upper()\n",
    "clean_df.head()"
   ]
  },
  {
   "attachments": {},
   "cell_type": "markdown",
   "metadata": {},
   "source": [
    "Export cleaned dataframe into data folder"
   ]
  },
  {
   "cell_type": "code",
   "execution_count": null,
   "metadata": {},
   "outputs": [],
   "source": [
    "clean_df.to_csv('data/clean_aacps_boe_spending.csv', index=False, header=True)"
   ]
  }
 ],
 "metadata": {
  "kernelspec": {
   "display_name": "Python 3",
   "language": "python",
   "name": "python3"
  },
  "language_info": {
   "codemirror_mode": {
    "name": "ipython",
    "version": 3
   },
   "file_extension": ".py",
   "mimetype": "text/x-python",
   "name": "python",
   "nbconvert_exporter": "python",
   "pygments_lexer": "ipython3",
   "version": "3.10.4"
  },
  "orig_nbformat": 4,
  "vscode": {
   "interpreter": {
    "hash": "3ad933181bd8a04b432d3370b9dc3b0662ad032c4dfaa4e4f1596c548f763858"
   }
  }
 },
 "nbformat": 4,
 "nbformat_minor": 2
}
